{
 "cells": [
  {
   "cell_type": "markdown",
   "metadata": {},
   "source": [
    "## Trial 1"
   ]
  },
  {
   "cell_type": "code",
   "execution_count": 350,
   "metadata": {},
   "outputs": [
    {
     "name": "stdout",
     "output_type": "stream",
     "text": [
      "           Ship Name  Latitude   Longitude              Time    Speed\n",
      "1       CONSTITUTION  32.61174   -91.15285  2016-04-13 06:09  9 Knots\n",
      "2  SEACOR   CHAMPION  29.06957   -90.11900  2019-06-03 01:46  4 Knots\n",
      "3  SPIRIT OF AMERICA  40.64183   -74.07077  2021-11-04 03:21  0 Knots\n",
      "4         THIRD WISH  47.67990  -122.40904  2021-10-31 23:26  0 Knots\n",
      "5         CSCL GLOBE  37.95539    23.58001  2021-11-04 03:18  0 Knots\n",
      "6             BARZAN  22.40082   114.53896  2021-11-03 13:07  1 Knots\n"
     ]
    }
   ],
   "source": [
    "import requests\n",
    "import pandas\n",
    "import folium\n",
    "#####################################\n",
    "#Europe: 228083900, 380 ft, Oil Tanker\n",
    "#Third Wish: 366903130\n",
    "#CSCL Globe: 477712400, 400 m\n",
    "#Barzan: 229930000, 400 m \n",
    "values = ['367526690',\n",
    "          '367527690',\n",
    "          '366952890',\n",
    "          '366903130',\n",
    "          '477712400',\n",
    "          '229930000',\n",
    "        ]\n",
    "\n",
    "#####################################\n",
    "#note that geopandas only works in no-arc environments\n",
    "def tracker(mmsi):\n",
    "    response = requests.get('https://www.myshiptracking.com/vessels/mmsi-'+ mmsi)\n",
    "    if response.status_code == 200:\n",
    "        #print(\"good\")\n",
    "        trimmed = re.sub(\"</*strong>|</p><p>|</*small>\", \"\", response.text)\n",
    "        all_data = str(trimmed.partition(\"The current position of \")[2]).partition('In this page')[0]\n",
    "        shipname = str(all_data.partition(\" is in \")[0])\n",
    "        coordinates = re.findall(\"-?[0-9]{0,3}\\.[0-9]{5}\", all_data)\n",
    "        time = re.search(\"20..-..-........\",all_data)\n",
    "        speed = re.search(\"[0-9]+.Knots\", all_data)\n",
    "        return ({'Ship Name': shipname ,\n",
    "                \"Latitude\" : coordinates[0],\n",
    "                \"Longitude\": coordinates[1],\n",
    "                \"Time\": time.group(),\n",
    "                 \"Speed\": speed.group()});\n",
    "    else:\n",
    "        #print(\"Invalid\")\n",
    "        return \"Invalid\"\n",
    "\n",
    "df = pandas.DataFrame(columns=['Ship Name',\"Latitude\",\"Longitude\",\"Time\",\"Speed\"])\n",
    "count = 1\n",
    "for each in values:\n",
    "    data = tracker(each)\n",
    "    df1 = pandas.DataFrame(data,columns=['Ship Name',\"Latitude\",\"Longitude\",\"Time\",\"Speed\"], index = [count])\n",
    "    df = df.append(df1)\n",
    "    count = count+1\n",
    "print(df)\n",
    "\n",
    "m = folium.Map([40, -90], tiles = 'CartoDB Positron', zoom_start=4)\n",
    "for index, row in df.iterrows():\n",
    "    folium.Marker(([row['Latitude'], row['Longitude']]), \n",
    "                  popup=row['Ship Name'],\n",
    "                  icon=folium.Icon(color = 'blue', icon_color = 'white', icon='ship', prefix='fa')\n",
    "                  ).add_to(m)\n",
    "m.save('New.html')"
   ]
  },
  {
   "cell_type": "markdown",
   "metadata": {},
   "source": [
    "## Trial 1.2"
   ]
  },
  {
   "cell_type": "code",
   "execution_count": 3,
   "metadata": {},
   "outputs": [
    {
     "name": "stdout",
     "output_type": "stream",
     "text": [
      "                Name              Coordinates              Time       Speed  \\\n",
      "1       CONSTITUTION   32.61174° / -91.15285°  2016-04-13 06:09   0.9 Knots   \n",
      "2  SEACOR   CHAMPION   29.06957° / -90.11900°  2019-06-03 01:46   5.4 Knots   \n",
      "3  SPIRIT OF AMERICA   40.64181° / -74.07073°  2021-11-05 21:51     0 Knots   \n",
      "4         THIRD WISH  47.67990° / -122.40904°  2021-10-31 23:26     0 Knots   \n",
      "5         CSCL GLOBE    36.39495° / 23.14179°  2021-11-05 21:52  20.4 Knots   \n",
      "6             BARZAN   22.14439° / 114.45100°  2021-11-05 04:19  15.8 Knots   \n",
      "\n",
      "         Lat         Long  \n",
      "1  32.61174     -91.15285  \n",
      "2  29.06957     -90.11900  \n",
      "3  40.64181     -74.07073  \n",
      "4  47.67990    -122.40904  \n",
      "5  36.39495      23.14179  \n",
      "6  22.14439     114.45100  \n"
     ]
    }
   ],
   "source": [
    "####### Import\n",
    "from bs4 import BeautifulSoup\n",
    "from bs4 import SoupStrainer\n",
    "import requests\n",
    "import pandas\n",
    "import folium\n",
    "values = [\n",
    "    '367526690',#      \n",
    "    '367527690',#\n",
    "    '366952890',#\n",
    "    '366903130',#\n",
    "    '477712400',#\n",
    "    '229930000',#\n",
    "]\n",
    "          \n",
    "####### Scraper\n",
    "def new(mmsi):\n",
    "    response = requests.get('https://www.myshiptracking.com/vessels/mmsi-'+ mmsi)\n",
    "    if response.status_code == 200:\n",
    "        html= response.text\n",
    "        soup = (BeautifulSoup(html, \"html.parser\", parse_only= SoupStrainer(\"strong\")))\n",
    "        blanklist = []\n",
    "        for string in soup.strings:\n",
    "            blanklist.append(string)\n",
    "    return({\"Name\":blanklist[0],\"Coordinates\":blanklist[4], \"Time\":blanklist[5],\"Speed\":blanklist[6]})\n",
    "\n",
    "####### Framing\n",
    "dq = pandas.DataFrame(columns=['Name',\"Coordinates\",'Time',\"Speed\"])\n",
    "count = 1\n",
    "for each in values:\n",
    "    dq1 = pandas.DataFrame(new(each),columns=['Name',\"Coordinates\",\"Time\",\"Speed\"], index = [count])\n",
    "    dq = dq.append(dq1)\n",
    "    count += 1\n",
    "dq[['Lat','Long']] = dq.Coordinates.str.split(\"/\",expand=True,)\n",
    "dq['Lat'] = dq['Lat'].str.replace(r'°', '')\n",
    "dq['Long'] = dq['Long'].str.replace(r'°', '')\n",
    "\n",
    "####### Mapping\n",
    "m = folium.Map([40, -90], tiles = 'CartoDB Positron', zoom_start=4)\n",
    "for index, row in dq.iterrows():\n",
    "    folium.Marker(([row['Lat'], row['Long']]), \n",
    "                  popup=row['Name'],\n",
    "                  icon=folium.Icon(color = 'blue', icon_color = 'white', icon='ship', prefix='fa')\n",
    "                  ).add_to(m)\n",
    "m.save('New.html')\n",
    "print(dq)"
   ]
  },
  {
   "cell_type": "code",
   "execution_count": null,
   "metadata": {},
   "outputs": [],
   "source": []
  }
 ],
 "metadata": {
  "kernelspec": {
   "display_name": "Python 3",
   "language": "python",
   "name": "python3"
  },
  "language_info": {
   "codemirror_mode": {
    "name": "ipython",
    "version": 3
   },
   "file_extension": ".py",
   "mimetype": "text/x-python",
   "name": "python",
   "nbconvert_exporter": "python",
   "pygments_lexer": "ipython3",
   "version": "3.7.3"
  }
 },
 "nbformat": 4,
 "nbformat_minor": 4
}
